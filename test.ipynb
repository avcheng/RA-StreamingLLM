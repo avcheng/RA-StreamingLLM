{
 "cells": [
  {
   "cell_type": "code",
   "execution_count": null,
   "metadata": {},
   "outputs": [],
   "source": [
    "%load_ext autoreload\n",
    "%autoreload 2"
   ]
  },
  {
   "cell_type": "code",
   "execution_count": null,
   "metadata": {},
   "outputs": [],
   "source": [
    "from streaming_llm.enable_streaming_llm import enable_streaming_llm\n",
    "from streaming_llm.utils import load, download_url, load_jsonl\n",
    "from examples.run_streaming_llama import streaming_inference\n",
    "from tqdm import tqdm\n",
    "import sys\n",
    "import re\n",
    "import time\n",
    "import os\n",
    "import json\n",
    "import argparse\n",
    "import torch\n",
    "import warnings"
   ]
  },
  {
   "cell_type": "code",
   "execution_count": null,
   "metadata": {},
   "outputs": [],
   "source": [
    "model_name_or_path = \"lmsys/vicuna-13b-v1.3\"\n",
    "data_root = \"data/\"\n",
    "model, tokenizer = load(model_name_or_path)\n",
    "test_filepath = os.path.join(data_root, \"mt_bench.jsonl\")\n",
    "print(f\"Loading data from {test_filepath} ...\")\n",
    "\n",
    "if not os.path.exists(test_filepath):\n",
    "    download_url(\n",
    "        \"https://raw.githubusercontent.com/lm-sys/FastChat/main/fastchat/llm_judge/data/mt_bench/question.jsonl\",\n",
    "        data_root,\n",
    "    )\n",
    "    os.rename(os.path.join(data_root, \"question.jsonl\"), test_filepath)\n",
    "\n",
    "list_data = load_jsonl(test_filepath)\n",
    "prompts = []\n",
    "for sample in list_data:\n",
    "    prompts += sample[\"turns\"]"
   ]
  },
  {
   "cell_type": "code",
   "execution_count": null,
   "metadata": {},
   "outputs": [],
   "source": [
    "kv_cache = enable_streaming_llm(\n",
    "    model, start_size=4, recent_size=500, use_retrieval=True\n",
    ")"
   ]
  },
  {
   "cell_type": "code",
   "execution_count": null,
   "metadata": {},
   "outputs": [],
   "source": [
    "kv_cache.clear_cache()"
   ]
  },
  {
   "cell_type": "code",
   "execution_count": null,
   "metadata": {},
   "outputs": [],
   "source": [
    "streaming_inference(\n",
    "    model,\n",
    "    tokenizer,\n",
    "    prompts,\n",
    "    kv_cache,\n",
    "    max_gen_len=250\n",
    ")"
   ]
  }
 ],
 "metadata": {
  "kernelspec": {
   "display_name": "Python 3 (ipykernel)",
   "language": "python",
   "name": "python3"
  },
  "language_info": {
   "codemirror_mode": {
    "name": "ipython",
    "version": 3
   },
   "file_extension": ".py",
   "mimetype": "text/x-python",
   "name": "python",
   "nbconvert_exporter": "python",
   "pygments_lexer": "ipython3",
   "version": "3.8.13"
  }
 },
 "nbformat": 4,
 "nbformat_minor": 4
}
